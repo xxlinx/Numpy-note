{
 "cells": [
  {
   "cell_type": "markdown",
   "id": "9f1ab589",
   "metadata": {},
   "source": [
    "如何安装就略过了\n",
    "# Numpy Array"
   ]
  },
  {
   "cell_type": "code",
   "execution_count": 1,
   "id": "b147623a",
   "metadata": {},
   "outputs": [
    {
     "data": {
      "text/plain": [
       "array([1, 2, 3])"
      ]
     },
     "execution_count": 1,
     "metadata": {},
     "output_type": "execute_result"
    }
   ],
   "source": [
    "import numpy as np\n",
    "\n",
    "np.array([1,2,3])"
   ]
  },
  {
   "cell_type": "markdown",
   "id": "93debba2",
   "metadata": {},
   "source": [
    "# List 和 Numpy array 共同点"
   ]
  },
  {
   "cell_type": "code",
   "execution_count": 3,
   "id": "47cad7c1",
   "metadata": {},
   "outputs": [
    {
     "name": "stdout",
     "output_type": "stream",
     "text": [
      "1\n",
      "[1, 2, 3]\n"
     ]
    }
   ],
   "source": [
    "my_list = [1,2,3]\n",
    "print(my_list[0])\n",
    "print(my_list)"
   ]
  },
  {
   "cell_type": "markdown",
   "id": "75cbc72a",
   "metadata": {},
   "source": [
    "存储和提取就是 List 的最基本用法和功能。而 Numpy Array 也能做这件事"
   ]
  },
  {
   "cell_type": "code",
   "execution_count": 4,
   "id": "a397497b",
   "metadata": {},
   "outputs": [
    {
     "name": "stdout",
     "output_type": "stream",
     "text": [
      "1\n",
      "[1 2 3]\n"
     ]
    }
   ],
   "source": [
    "my_array = np.array([1,2,3])\n",
    "print(my_array[0])\n",
    "print(my_array)"
   ]
  },
  {
   "cell_type": "markdown",
   "id": "7bee0110",
   "metadata": {},
   "source": [
    "对内部的一个值进行修改也是同样的逻辑。"
   ]
  },
  {
   "cell_type": "code",
   "execution_count": 5,
   "id": "6ba41170",
   "metadata": {},
   "outputs": [
    {
     "name": "stdout",
     "output_type": "stream",
     "text": [
      "[-1, 2, 3]\n",
      "[-1  2  3]\n"
     ]
    }
   ],
   "source": [
    "my_list[0] = -1\n",
    "my_array[0] = -1\n",
    "print(my_list)\n",
    "print(my_array)"
   ]
  },
  {
   "cell_type": "markdown",
   "id": "348c9840",
   "metadata": {},
   "source": [
    "# Numpy 的优势\n",
    "Numpy的核心优势：运算快。   \n",
    "Numpy 喜欢用电脑内存中连续的一块物理地址存储数据，因为都是连号的嘛，找到前后的号，不用跑很远， 非常迅速。而 Python 的 List 并不是连续存储的，它的数据是分散在不同的物理空间，在批量计算的时候，连号的肯定比不连号的算起来更快。因为找他们的时间更少了。"
   ]
  },
  {
   "cell_type": "code",
   "execution_count": 6,
   "id": "3cdb6080",
   "metadata": {},
   "outputs": [
    {
     "name": "stdout",
     "output_type": "stream",
     "text": [
      "Python list spend 0.191s\n",
      "Numpy array spend 0.016s\n"
     ]
    }
   ],
   "source": [
    "import time\n",
    "\n",
    "t0 = time.time()\n",
    "# python list\n",
    "l = list(range(100))\n",
    "for _ in range(10000):\n",
    "    for i in range(len(l)):\n",
    "        l[i] += 1\n",
    "\n",
    "t1 = time.time()\n",
    "# numpy array\n",
    "a = np.array(l)\n",
    "for _ in range(10000):\n",
    "    a += 1\n",
    "\n",
    "print(\"Python list spend {:.3f}s\".format(t1-t0))\n",
    "print(\"Numpy array spend {:.3f}s\".format(time.time()-t1))"
   ]
  },
  {
   "cell_type": "markdown",
   "id": "a6385a70",
   "metadata": {},
   "source": [
    "即使我用 map 来代替 Python 的原生循环赋值。Numpy 还是要快一些"
   ]
  },
  {
   "cell_type": "code",
   "execution_count": 7,
   "id": "9caa283d",
   "metadata": {},
   "outputs": [
    {
     "name": "stdout",
     "output_type": "stream",
     "text": [
      "Python list with map spend 0.140s\n",
      "Numpy array spend 0.016s\n"
     ]
    }
   ],
   "source": [
    "import time\n",
    "\n",
    "t0 = time.time()\n",
    "# python list\n",
    "l = list(range(100))\n",
    "for _ in range(10000):\n",
    "    l = list(map(lambda i: i+1, l))\n",
    "\n",
    "t1 = time.time()\n",
    "# numpy array\n",
    "a = np.array(l)\n",
    "for _ in range(10000):\n",
    "    a += 1\n",
    "\n",
    "print(\"Python list with map spend {:.3f}s\".format(t1-t0))\n",
    "print(\"Numpy array spend {:.3f}s\".format(time.time()-t1))"
   ]
  },
  {
   "cell_type": "code",
   "execution_count": null,
   "id": "093ee077",
   "metadata": {},
   "outputs": [],
   "source": []
  }
 ],
 "metadata": {
  "kernelspec": {
   "display_name": "pytorch",
   "language": "python",
   "name": "pytorch"
  },
  "language_info": {
   "codemirror_mode": {
    "name": "ipython",
    "version": 3
   },
   "file_extension": ".py",
   "mimetype": "text/x-python",
   "name": "python",
   "nbconvert_exporter": "python",
   "pygments_lexer": "ipython3",
   "version": "3.7.16"
  }
 },
 "nbformat": 4,
 "nbformat_minor": 5
}
