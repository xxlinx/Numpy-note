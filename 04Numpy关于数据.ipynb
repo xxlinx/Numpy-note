{
 "cells": [
  {
   "cell_type": "markdown",
   "id": "132f07c9",
   "metadata": {},
   "source": [
    "# 创建统一数据"
   ]
  },
  {
   "cell_type": "code",
   "execution_count": 1,
   "id": "6b0d6f32",
   "metadata": {},
   "outputs": [
    {
     "name": "stdout",
     "output_type": "stream",
     "text": [
      "zeros:\n",
      " [[0. 0. 0.]\n",
      " [0. 0. 0.]]\n",
      "\n",
      "ones:\n",
      " [[1. 1.]\n",
      " [1. 1.]\n",
      " [1. 1.]]\n"
     ]
    }
   ],
   "source": [
    "import numpy as np\n",
    "\n",
    "zeros = np.zeros([2, 3])\n",
    "print(\"zeros:\\n\", zeros)\n",
    "\n",
    "ones = np.ones([3, 2])\n",
    "print(\"\\nones:\\n\", ones)"
   ]
  },
  {
   "cell_type": "markdown",
   "id": "031954d8",
   "metadata": {},
   "source": [
    "我们可以创建 0 或 1 的数据，那我们能不能创建其它数值的数据的？答案是肯定的，用 np.full() 功能就好了。"
   ]
  },
  {
   "cell_type": "code",
   "execution_count": 2,
   "id": "9c2dd53b",
   "metadata": {},
   "outputs": [
    {
     "name": "stdout",
     "output_type": "stream",
     "text": [
      "[[9 9 9]\n",
      " [9 9 9]]\n"
     ]
    }
   ],
   "source": [
    "nines = np.full([2,3], 9)\n",
    "print(nines)"
   ]
  },
  {
   "cell_type": "markdown",
   "id": "28585352",
   "metadata": {},
   "source": [
    "如果我们手头已经有一份数据，我们想创建一个和它类型一样，大小一样的另一份数据， 我们可以调用 np.xxx_like 这种形式的功能。"
   ]
  },
  {
   "cell_type": "code",
   "execution_count": 3,
   "id": "8d63f066",
   "metadata": {},
   "outputs": [
    {
     "name": "stdout",
     "output_type": "stream",
     "text": [
      "ones: (2, 3) int64\n",
      "ones_like: (2, 3) int64\n",
      "ones_like value:\n",
      " [[1 1 1]\n",
      " [1 1 1]]\n"
     ]
    }
   ],
   "source": [
    "data = np.array([\n",
    "[1,2,3],\n",
    "[4,5,6]\n",
    "], dtype=np.int64)\n",
    "\n",
    "ones = np.ones(data.shape, dtype=data.dtype)\n",
    "ones_like = np.ones_like(data)\n",
    "\n",
    "print(\"ones:\", ones.shape, ones.dtype)\n",
    "print(\"ones_like:\", ones_like.shape, ones_like.dtype)\n",
    "print(\"ones_like value:\\n\", ones_like)"
   ]
  },
  {
   "cell_type": "code",
   "execution_count": 4,
   "id": "21308d3b",
   "metadata": {},
   "outputs": [
    {
     "name": "stdout",
     "output_type": "stream",
     "text": [
      "[[0 0 0]\n",
      " [0 0 0]]\n",
      "[[6 6 6]\n",
      " [6 6 6]]\n"
     ]
    }
   ],
   "source": [
    "print(np.zeros_like(data))\n",
    "print(np.full_like(data, 6))"
   ]
  },
  {
   "cell_type": "markdown",
   "id": "a9ae6214",
   "metadata": {},
   "source": [
    "# 创建规则数据\n",
    "arange 功能，这就有点像 Python 里的 range 功能，用来得到一个序列"
   ]
  },
  {
   "cell_type": "code",
   "execution_count": 5,
   "id": "4b3f4af5",
   "metadata": {},
   "outputs": [
    {
     "name": "stdout",
     "output_type": "stream",
     "text": [
      "python range: [0, 1, 2, 3, 4]\n",
      "numpy arange: [0 1 2 3 4]\n"
     ]
    }
   ],
   "source": [
    "print(\"python range:\", list(range(5)))\n",
    "print(\"numpy arange:\", np.arange(5))"
   ]
  },
  {
   "cell_type": "markdown",
   "id": "7866aa98",
   "metadata": {},
   "source": [
    "同样，np.arange() 也可以像 range() 一样，对范围做自定义更变或跳跃取值"
   ]
  },
  {
   "cell_type": "code",
   "execution_count": 6,
   "id": "b2ec9daf",
   "metadata": {},
   "outputs": [
    {
     "name": "stdout",
     "output_type": "stream",
     "text": [
      "python range: [3, 5, 7, 9]\n",
      "numpy arange: [3 5 7 9]\n"
     ]
    }
   ],
   "source": [
    "# (start, end, step) \n",
    "print(\"python range:\", list(range(3, 10, 2)))\n",
    "print(\"numpy arange:\", np.arange(3, 10, 2))"
   ]
  },
  {
   "cell_type": "markdown",
   "id": "a6d60174",
   "metadata": {},
   "source": [
    "还有一个也是用来取一段数字中的值，里面的参数分别代表从 start 的值到 end 的值，一共返回这中间 num 个数据点。"
   ]
  },
  {
   "cell_type": "code",
   "execution_count": 7,
   "id": "9606ea25",
   "metadata": {},
   "outputs": [
    {
     "name": "stdout",
     "output_type": "stream",
     "text": [
      "linspace: [-1.  -0.5  0.   0.5  1. ]\n"
     ]
    }
   ],
   "source": [
    "# (start, end, num)\n",
    "print(\"linspace:\", np.linspace(-1, 1, 5))"
   ]
  },
  {
   "cell_type": "markdown",
   "id": "c17bd72c",
   "metadata": {},
   "source": [
    "更厉害的是，有时候我们会很纠结，上面是在-1 至 1 之间分了 4 个区域。 而我们想在-1 至 1 之间分 5 个区域，怎么搞？加一个 endpoint=False 就可以返回这 5 个区域的结节点了。"
   ]
  },
  {
   "cell_type": "code",
   "execution_count": 8,
   "id": "8279840a",
   "metadata": {},
   "outputs": [
    {
     "name": "stdout",
     "output_type": "stream",
     "text": [
      "5 segments: [-1.  -0.6 -0.2  0.2  0.6]\n"
     ]
    }
   ],
   "source": [
    "print(\"5 segments:\", np.linspace(-1, 1, 5, endpoint=False))"
   ]
  },
  {
   "cell_type": "markdown",
   "id": "c2a30c7f",
   "metadata": {},
   "source": [
    "还有很多做特殊规则的数据的方式，比如 np.identity(), np.eye(), np.logspace() 等等"
   ]
  },
  {
   "cell_type": "markdown",
   "id": "8477ebd6",
   "metadata": {},
   "source": [
    "# 快速创建再添加值\n",
    "和 np.ones() 这种很相似的，有一个叫 np.empty() 功能  \n",
    "np.empty() 功能，不会初始化新建 array 里面的数值，所以你会看到这里面的数值都是乱乱的。 注意，虽然乱乱的，但是它不是随机数哦，你不能把它当随机数使用。"
   ]
  },
  {
   "cell_type": "code",
   "execution_count": 9,
   "id": "dd79d04e",
   "metadata": {},
   "outputs": [
    {
     "name": "stdout",
     "output_type": "stream",
     "text": [
      "[[1.05784281e-311 3.16202013e-322 0.00000000e+000]\n",
      " [0.00000000e+000 1.95821438e-306 4.42228397e-062]\n",
      " [3.34639648e-061 2.44898445e-056 7.95963905e-042]\n",
      " [2.78807449e+179 1.25662073e-075 1.51952020e-047]]\n"
     ]
    }
   ],
   "source": [
    "print(np.empty([4,3]))"
   ]
  },
  {
   "cell_type": "markdown",
   "id": "12e1b9a2",
   "metadata": {},
   "source": [
    "不能当随机数，又没有具体数值，这个 empty 到底为什么存在呢？  \n",
    "1.首先，可以当成一个 placeholder，一个容器先放着，之后慢慢放数据  \n",
    "2.创建起来比 ones, zeros, full 都快一点点"
   ]
  },
  {
   "cell_type": "code",
   "execution_count": 10,
   "id": "52997b4e",
   "metadata": {},
   "outputs": [
    {
     "name": "stdout",
     "output_type": "stream",
     "text": [
      "ones time: 0.0\n",
      "empty time: 0.0\n"
     ]
    }
   ],
   "source": [
    "import time\n",
    "t0 = time.time()\n",
    "\n",
    "for _ in range(1000):\n",
    "    _ = np.ones([100, 100])\n",
    "\n",
    "t1 = time.time()\n",
    "for _ in range(1000):\n",
    "    _ = np.empty([100, 100])\n",
    "\n",
    "t2 = time.time()\n",
    "print(\"ones time:\", t1 - t0)\n",
    "print(\"empty time:\", t2 - t1)"
   ]
  },
  {
   "cell_type": "markdown",
   "id": "bb5645e7",
   "metadata": {},
   "source": [
    "一般是怎么使用？"
   ]
  },
  {
   "cell_type": "code",
   "execution_count": 11,
   "id": "9cb9491b",
   "metadata": {},
   "outputs": [
    {
     "name": "stdout",
     "output_type": "stream",
     "text": [
      "empty before:\n",
      " [[3.e-323 3.e-323 3.e-323]\n",
      " [3.e-323 3.e-323 3.e-323]]\n",
      "empty after:\n",
      " [[0.         0.84001236 0.62311155]\n",
      " [0.82196806 0.74011008 4.29020684]]\n"
     ]
    }
   ],
   "source": [
    "import random\n",
    "\n",
    "empty = np.empty([2,3])\n",
    "print(\"empty before:\\n\", empty)\n",
    "data = np.arange(6).reshape([2, 3])\n",
    "for i in range(data.shape[0]):\n",
    "    for j in range(data.shape[1]):\n",
    "        empty[i, j] = data[i, j] * random.random()\n",
    "print(\"empty after:\\n\", empty)"
   ]
  },
  {
   "cell_type": "markdown",
   "id": "7be1f19b",
   "metadata": {},
   "source": [
    "一般当我有一个数据要根据另一份数据生成的时候，无论我初始化是什么值，到最终都要全部被替换的时候，我就喜欢用 np.empty()。    \n",
    "ok，最后说一句，有 np.empty()，我们也有 np.empty_like() 用法和 np.zeros_like() 这种类似，很方便用的。"
   ]
  },
  {
   "cell_type": "markdown",
   "id": "25e4f696",
   "metadata": {},
   "source": [
    "# 多种随机数生成\n",
    "能用 Python 自带的 random 来解决，但是效率会低不少。"
   ]
  },
  {
   "cell_type": "code",
   "execution_count": 12,
   "id": "7c790c67",
   "metadata": {},
   "outputs": [
    {
     "name": "stdout",
     "output_type": "stream",
     "text": [
      "0.19178412622139118\n",
      "3\n"
     ]
    }
   ],
   "source": [
    "import random\n",
    "print(random.random())\n",
    "print(random.randint(1, 10))"
   ]
  },
  {
   "cell_type": "markdown",
   "id": "0bafaa70",
   "metadata": {},
   "source": [
    "Python 的 random 没有考虑数组类型的高效数据结构，所以我们在 array 类型的数据结构时，更喜欢直接用 Numpy 来生成。"
   ]
  },
  {
   "cell_type": "code",
   "execution_count": 13,
   "id": "e05a1669",
   "metadata": {},
   "outputs": [
    {
     "name": "stdout",
     "output_type": "stream",
     "text": [
      "[[0.68890973 0.6407082 ]\n",
      " [0.22542494 0.64315088]\n",
      " [0.86430387 0.94492318]]\n"
     ]
    }
   ],
   "source": [
    "# 随机生成 [0, 1) 之间的数\n",
    "dim1, dim2 = 3, 2\n",
    "print(np.random.rand(dim1, dim2)) # 你还能继续添加 dim3 或更多"
   ]
  },
  {
   "cell_type": "markdown",
   "id": "5bd98715",
   "metadata": {},
   "source": [
    "np.random.rand() 是一种最方便去生成带 shape 的 [0, 1) 之间取值的 Array。实现同一个目的的还有这样一种写法，功能上没差别，但是就是看你个人习惯了， np.random.random() 用它就是直接传一个 shape 进去。"
   ]
  },
  {
   "cell_type": "code",
   "execution_count": 14,
   "id": "6d65964f",
   "metadata": {},
   "outputs": [
    {
     "name": "stdout",
     "output_type": "stream",
     "text": [
      "[[0.35552436 0.40074249]\n",
      " [0.97762609 0.69548291]\n",
      " [0.59433478 0.89336423]]\n"
     ]
    }
   ],
   "source": [
    "print(np.random.random([dim1, dim2]))"
   ]
  },
  {
   "cell_type": "markdown",
   "id": "b800e332",
   "metadata": {},
   "source": [
    "除了生成 [0, 1) 之间的随机数，Numpy 还可以生成其他数值，或使用其他生成规则。比如按照标准正态分布去生成。"
   ]
  },
  {
   "cell_type": "code",
   "execution_count": 15,
   "id": "39f0961a",
   "metadata": {},
   "outputs": [
    {
     "name": "stdout",
     "output_type": "stream",
     "text": [
      "[[-1.32981377  0.03981976]\n",
      " [ 0.24903411 -0.02683164]\n",
      " [-0.44467928  0.59023666]]\n"
     ]
    }
   ],
   "source": [
    "print(np.random.randn(dim1, dim2))"
   ]
  },
  {
   "cell_type": "markdown",
   "id": "4ab5aa95",
   "metadata": {},
   "source": [
    "上面都是一些小数的生成，我想生成随机整数呢？那就要用到 np.random.randint()"
   ]
  },
  {
   "cell_type": "code",
   "execution_count": 16,
   "id": "7d04b3f7",
   "metadata": {},
   "outputs": [
    {
     "name": "stdout",
     "output_type": "stream",
     "text": [
      "[ 2 -1 -1  3  5  1  3  3  2  0]\n"
     ]
    }
   ],
   "source": [
    "print(np.random.randint(low=-3, high=6, size=10))"
   ]
  },
  {
   "cell_type": "markdown",
   "id": "69be8f94",
   "metadata": {},
   "source": [
    "# 给你施加随机\n",
    "它还可以对已有的数据做随机化处理。 比如我想随机从一组数据中选择，我就可以用 np.random.choice()"
   ]
  },
  {
   "cell_type": "code",
   "execution_count": 17,
   "id": "b013d724",
   "metadata": {},
   "outputs": [
    {
     "name": "stdout",
     "output_type": "stream",
     "text": [
      "选一个： 4\n",
      "选多个： [1 4 6]\n",
      "不重复地选多个(不放回)： [2 3 6]\n",
      "带权重地选择： [6 6 4 6 6 6 6 6 4 6]\n"
     ]
    }
   ],
   "source": [
    "data = np.array([2,1,3,4,6])\n",
    "print(\"选一个：\", np.random.choice(data))\n",
    "print(\"选多个：\", np.random.choice(data, size=3))\n",
    "print(\"不重复地选多个(不放回)：\", np.random.choice(data, size=3, replace=False))\n",
    "print(\"带权重地选择：\", np.random.choice(data, size=10, p=[0,0,0,0.2,0.8]))\n"
   ]
  },
  {
   "cell_type": "markdown",
   "id": "e8de4218",
   "metadata": {},
   "source": [
    "在机器学习中，你也许会经常在 epoch 迭代训练数据的时候，碰到 shuffle 的概念。 如果你在机器学习中没弄懂没关系，这里给你补充一下。Numpy 里也有 np.random.shuffle() 的功能，就是用来洗牌的。 注意，它会将源数据洗牌重新排列，如果你想保留源数据的话，记得 np.copy(data) 备份一下"
   ]
  },
  {
   "cell_type": "code",
   "execution_count": 18,
   "id": "499a63f0",
   "metadata": {},
   "outputs": [
    {
     "name": "stdout",
     "output_type": "stream",
     "text": [
      "源数据： [2 1 3 4 6]\n",
      "shuffled: [1 4 2 3 6]\n"
     ]
    }
   ],
   "source": [
    "data_copy = np.copy(data)\n",
    "np.random.shuffle(data)\n",
    "print(\"源数据：\", data_copy)\n",
    "print(\"shuffled:\", data)"
   ]
  },
  {
   "cell_type": "markdown",
   "id": "3dc7ed27",
   "metadata": {},
   "source": [
    "np.random.permutation(), 它实现的是 np.random.shuffle() 的一种特殊形式。可以说是一种简单处理特殊情况的功能。 它有两个方便之处，1. 直接生成乱序的序列号，2. 对数据乱序。\n",
    "\n",
    "而且相比 np.random.shuffle()，permutation 有一个好处，就是可以返回一个新数据，对原本的数据没有影响。而且还可以处理多维数据。"
   ]
  },
  {
   "cell_type": "code",
   "execution_count": 19,
   "id": "c31daaf7",
   "metadata": {},
   "outputs": [
    {
     "name": "stdout",
     "output_type": "stream",
     "text": [
      "直接出乱序序列： [8 9 7 1 4 2 6 0 5 3]\n",
      "多维数据在第一维度上乱序： [[10 11]\n",
      " [ 4  5]\n",
      " [ 2  3]\n",
      " [ 6  7]\n",
      " [ 0  1]\n",
      " [ 8  9]]\n"
     ]
    }
   ],
   "source": [
    "print(\"直接出乱序序列：\", np.random.permutation(10))\n",
    "data = np.arange(12).reshape([6,2])\n",
    "print(\"多维数据在第一维度上乱序：\", np.random.permutation(data))"
   ]
  },
  {
   "cell_type": "markdown",
   "id": "bd2079df",
   "metadata": {},
   "source": [
    "# 随机分布\n",
    "统计学或者机器学习，我们在生成数据的时候，有时需要按照特定的统计学分布来生成，比如需要一个正态分布的抽样数据，或者均匀分布的数据抽样结果。 又或者是其他更高级的，比如泊松分布等等，都可以用 Numpy 来实现。这里我们只介绍一下在机器学习中比较常用的 正态分布 和 均匀分布。"
   ]
  },
  {
   "cell_type": "code",
   "execution_count": 20,
   "id": "ad4de57b",
   "metadata": {},
   "outputs": [
    {
     "name": "stdout",
     "output_type": "stream",
     "text": [
      "正态分布： [0.85844378 1.40282833 0.62734952 1.11248465 1.08421434 0.99975054\n",
      " 0.77455187 1.19136304 0.90096582 1.11047522]\n",
      "均匀分布： [ 0.15749535 -0.36519942  0.15636503 -0.41501753  0.14937694 -0.84221737\n",
      " -0.70050675 -0.15676777  0.08744028  0.76465294]\n"
     ]
    }
   ],
   "source": [
    "# (均值，方差，size)\n",
    "print(\"正态分布：\", np.random.normal(1, 0.2, 10))\n",
    "\n",
    "# (最低，最高，size)\n",
    "print(\"均匀分布：\", np.random.uniform(-1, 1, 10))"
   ]
  },
  {
   "cell_type": "markdown",
   "id": "caacdcef",
   "metadata": {},
   "source": [
    "# 随机种子的重要性\n",
    "在机器学习中，我们要对比两种随机初始化模型的优劣，或者在强化学习中要固定随机环境的随机序列，用于复现当前配置的情况，我们通常要做的事情就是伪随机。 简单说，就是每次都是一组随机，但是我可以后续再完整运行一遍一模一样的随机效果。比如生成两遍一模一样的随机序列。\n",
    "\n",
    "为了达到这个目的，我们要了解 Numpy 中的 random seed 概念，随机种子。当我们把种子固定的时候（用一个数字），同一个种子（数字）产生的随机序列就会一样。"
   ]
  },
  {
   "cell_type": "code",
   "execution_count": 21,
   "id": "df31f86e",
   "metadata": {},
   "outputs": [
    {
     "name": "stdout",
     "output_type": "stream",
     "text": [
      "[7 5 6]\n",
      "[2 9 3]\n"
     ]
    }
   ],
   "source": [
    "# seed(1) 代表的就是 1 号随机序列\n",
    "np.random.seed(1)\n",
    "print(np.random.randint(2, 10, size=3))\n",
    "print(np.random.randint(2, 10, size=3))"
   ]
  },
  {
   "cell_type": "markdown",
   "id": "4270daa4",
   "metadata": {},
   "source": [
    "无论你运行多少次上门的代码，你看到的随机结果，都是同一种结果。当你想改变随机种子的时候，可以在 seed() 中传入不同的数字。"
   ]
  },
  {
   "cell_type": "code",
   "execution_count": 24,
   "id": "d212ebb5",
   "metadata": {},
   "outputs": [
    {
     "name": "stdout",
     "output_type": "stream",
     "text": [
      "[2 9 7]\n",
      "[2 9 7]\n"
     ]
    }
   ],
   "source": [
    "np.random.seed(2)\n",
    "print(np.random.randint(2, 10, size=3))\n",
    "np.random.seed(2)\n",
    "print(np.random.randint(2, 10, size=3))"
   ]
  },
  {
   "cell_type": "code",
   "execution_count": null,
   "id": "a2531c07",
   "metadata": {},
   "outputs": [],
   "source": []
  }
 ],
 "metadata": {
  "kernelspec": {
   "display_name": "pytorch",
   "language": "python",
   "name": "pytorch"
  },
  "language_info": {
   "codemirror_mode": {
    "name": "ipython",
    "version": 3
   },
   "file_extension": ".py",
   "mimetype": "text/x-python",
   "name": "python",
   "nbconvert_exporter": "python",
   "pygments_lexer": "ipython3",
   "version": "3.7.16"
  }
 },
 "nbformat": 4,
 "nbformat_minor": 5
}
