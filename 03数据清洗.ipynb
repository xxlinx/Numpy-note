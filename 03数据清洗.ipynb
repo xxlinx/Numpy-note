{
 "cells": [
  {
   "cell_type": "markdown",
   "id": "a157bbf2",
   "metadata": {},
   "source": [
    "常见的脏数据种类有：  \n",
    "\n",
    "数据值缺失  \n",
    "数据值异常大或小  \n",
    "格式错误  \n",
    "非独立数据错误    \n",
    "  \n",
    "先自己自造一份脏数据"
   ]
  },
  {
   "cell_type": "code",
   "execution_count": 1,
   "id": "e91407d9",
   "metadata": {},
   "outputs": [
    {
     "name": "stdout",
     "output_type": "stream",
     "text": [
      "[['Name', 'StudentID', 'Age', 'AttendClass', 'Score'], ['小明', 20131, 10, 1, 67], ['小花', 20132, 11, 1, 88], ['小菜', 20133, None, 1, '98'], ['小七', 20134, 8, 1, 110], ['花菜', 20134, 98, 0, None], ['刘欣', 20136, 12, 0, 12]]\n"
     ]
    }
   ],
   "source": [
    "raw_data = [\n",
    "[\"Name\", \"StudentID\", \"Age\", \"AttendClass\", \"Score\"],\n",
    "[\"小明\", 20131, 10, 1, 67],\n",
    "[\"小花\", 20132, 11, 1, 88],\n",
    "[\"小菜\", 20133, None, 1, \"98\"],\n",
    "[\"小七\", 20134, 8, 1, 110],\n",
    "[\"花菜\", 20134, 98, 0, None],\n",
    "[\"刘欣\", 20136, 12, 0, 12]\n",
    "]\n",
    "print(raw_data)"
   ]
  },
  {
   "cell_type": "markdown",
   "id": "77d99b9b",
   "metadata": {},
   "source": [
    "首先，我们要做的就是把这份 Python list 数据转化成 Numpy 数据。其实用 Python 列表也能做数据清洗工作， 但为什么要用 Numpy 来做呢？这不得不提到 Numpy 面对大数据时，它得天独厚的计算速度优势了。同样一份 1GB 的数据，Python List 处理起来可能要 1 小时， Numpy 优化后，速度可以成倍增长。"
   ]
  },
  {
   "cell_type": "code",
   "execution_count": 2,
   "id": "c2076d4e",
   "metadata": {},
   "outputs": [
    {
     "data": {
      "text/plain": [
       "array([['Name', 'StudentID', 'Age', 'AttendClass', 'Score'],\n",
       "       ['小明', 20131, 10, 1, 67],\n",
       "       ['小花', 20132, 11, 1, 88],\n",
       "       ['小菜', 20133, None, 1, '98'],\n",
       "       ['小七', 20134, 8, 1, 110],\n",
       "       ['花菜', 20134, 98, 0, None],\n",
       "       ['刘欣', 20136, 12, 0, 12]], dtype=object)"
      ]
     },
     "execution_count": 2,
     "metadata": {},
     "output_type": "execute_result"
    }
   ],
   "source": [
    "import numpy as np\n",
    "data = np.array(raw_data)\n",
    "data"
   ]
  },
  {
   "cell_type": "markdown",
   "id": "8fe75514",
   "metadata": {},
   "source": [
    "结尾处有一个标识。dtype=object，这是什么意思呢？（剧透一下：这种 dtype 会对后续数据处理带来很多麻烦） 我们对比一下如果是纯数据的格式，numpy 的 dtype 是什么样。"
   ]
  },
  {
   "cell_type": "code",
   "execution_count": 3,
   "id": "c30bff7e",
   "metadata": {},
   "outputs": [
    {
     "name": "stdout",
     "output_type": "stream",
     "text": [
      "test1.dtype int32\n",
      "test2.dtype float64\n",
      "test3.dtype float64\n",
      "test2 > 2  [False  True  True]\n"
     ]
    },
    {
     "ename": "TypeError",
     "evalue": "'>' not supported between instances of 'str' and 'int'",
     "output_type": "error",
     "traceback": [
      "\u001b[1;31m---------------------------------------------------------------------------\u001b[0m",
      "\u001b[1;31mTypeError\u001b[0m                                 Traceback (most recent call last)",
      "\u001b[1;32m~\\AppData\\Local\\Temp\\ipykernel_13224\\1055812373.py\u001b[0m in \u001b[0;36m<module>\u001b[1;34m\u001b[0m\n\u001b[0;32m      7\u001b[0m \u001b[1;33m\u001b[0m\u001b[0m\n\u001b[0;32m      8\u001b[0m \u001b[0mprint\u001b[0m\u001b[1;33m(\u001b[0m\u001b[1;34m\"test2 > 2 \"\u001b[0m\u001b[1;33m,\u001b[0m \u001b[0mtest2\u001b[0m \u001b[1;33m>\u001b[0m \u001b[1;36m2\u001b[0m\u001b[1;33m)\u001b[0m\u001b[1;33m\u001b[0m\u001b[1;33m\u001b[0m\u001b[0m\n\u001b[1;32m----> 9\u001b[1;33m \u001b[0mprint\u001b[0m\u001b[1;33m(\u001b[0m\u001b[1;34m\"data > 2\"\u001b[0m\u001b[1;33m,\u001b[0m \u001b[0mdata\u001b[0m \u001b[1;33m>\u001b[0m \u001b[1;36m2\u001b[0m\u001b[1;33m)\u001b[0m \u001b[1;31m# 这里会报错\u001b[0m\u001b[1;33m\u001b[0m\u001b[1;33m\u001b[0m\u001b[0m\n\u001b[0m",
      "\u001b[1;31mTypeError\u001b[0m: '>' not supported between instances of 'str' and 'int'"
     ]
    }
   ],
   "source": [
    "test1 = np.array([1,2,3])\n",
    "test2 = np.array([1.1,2.3,3.4])\n",
    "test3 = np.array([1,2,3], dtype=np.float64)\n",
    "print(\"test1.dtype\", test1.dtype)\n",
    "print(\"test2.dtype\", test2.dtype)\n",
    "print(\"test3.dtype\", test3.dtype)\n",
    "\n",
    "print(\"test2 > 2 \", test2 > 2)\n",
    "print(\"data > 2\", data > 2) # 这里会报错"
   ]
  },
  {
   "cell_type": "markdown",
   "id": "8fa5a159",
   "metadata": {},
   "source": [
    "不同的 array 创建方式，可能会有不同的 dtype，而之前的 data.dtype=object，说明Python list 直接转换过来的 data 是无法参与诸多 Numpy 计算的。 而只有 dtype 为 int，float 这样的数值形式，才能参与运算。"
   ]
  },
  {
   "cell_type": "markdown",
   "id": "2d94e9b0",
   "metadata": {},
   "source": [
    "# 数据预处理\n",
    "我们筛选过滤一下。"
   ]
  },
  {
   "cell_type": "code",
   "execution_count": 4,
   "id": "09996b2f",
   "metadata": {},
   "outputs": [
    {
     "name": "stdout",
     "output_type": "stream",
     "text": [
      "data.dtype float64\n",
      "[[2.0131e+04 1.0000e+01 1.0000e+00 6.7000e+01]\n",
      " [2.0132e+04 1.1000e+01 1.0000e+00 8.8000e+01]\n",
      " [2.0133e+04        nan 1.0000e+00 9.8000e+01]\n",
      " [2.0134e+04 8.0000e+00 1.0000e+00 1.1000e+02]\n",
      " [2.0134e+04 9.8000e+01 0.0000e+00        nan]\n",
      " [2.0136e+04 1.2000e+01 0.0000e+00 1.2000e+01]]\n"
     ]
    }
   ],
   "source": [
    "data_process = []\n",
    "for i in range(len(raw_data)):\n",
    "    if i == 0:\n",
    "        continue    # 不要首行字符串\n",
    "    # 去掉首列名字\n",
    "    data_process.append(raw_data[i][1:])\n",
    "data = np.array(data_process, dtype=np.float64)\n",
    "print(\"data.dtype\", data.dtype)\n",
    "print(data) "
   ]
  },
  {
   "cell_type": "markdown",
   "id": "617fc372",
   "metadata": {},
   "source": [
    "因为这份数据中存在 None，而只有 np.float 能转换 None"
   ]
  },
  {
   "cell_type": "markdown",
   "id": "0aa8882b",
   "metadata": {},
   "source": [
    "# 清洗数据\n",
    "怎么清洗脏数据，取决于你要拿这个数据做什么，很明显，我们想要看看有没有什么数据是不合逻辑的。比如我发现学号有重复，可能是在输入学生信息的时候手误输错了。"
   ]
  },
  {
   "cell_type": "code",
   "execution_count": 5,
   "id": "5a9d65d6",
   "metadata": {},
   "outputs": [
    {
     "name": "stdout",
     "output_type": "stream",
     "text": [
      "[1 1 1 2 1]\n"
     ]
    }
   ],
   "source": [
    "sid = data[:, 0]\n",
    "unique, counts = np.unique(sid, return_counts=True)\n",
    "print(counts)"
   ]
  },
  {
   "cell_type": "markdown",
   "id": "f11e7a8f",
   "metadata": {},
   "source": [
    " np.unique() 功能我可能没说过，但是看名字就知道，它是用来查找数据中独一无二的数据的，return_counts 让我能清楚看到是数据的重复数量。 比如有一个数据重复出现了 2 次。我们来看看是哪个数据出现了多次。"
   ]
  },
  {
   "cell_type": "code",
   "execution_count": 6,
   "id": "f95dde8d",
   "metadata": {},
   "outputs": [
    {
     "name": "stdout",
     "output_type": "stream",
     "text": [
      "[20134.]\n"
     ]
    }
   ],
   "source": [
    "print(unique[counts > 1])"
   ]
  },
  {
   "cell_type": "markdown",
   "id": "77489226",
   "metadata": {},
   "source": [
    "然后综合判断，我们的数据中少了一个 20135，可能就是把某个同学的学号输错了，我们将错误的同学修改过来。"
   ]
  },
  {
   "cell_type": "code",
   "execution_count": 7,
   "id": "881db556",
   "metadata": {},
   "outputs": [
    {
     "name": "stdout",
     "output_type": "stream",
     "text": [
      "[[2.0131e+04 1.0000e+01 1.0000e+00 6.7000e+01]\n",
      " [2.0132e+04 1.1000e+01 1.0000e+00 8.8000e+01]\n",
      " [2.0133e+04        nan 1.0000e+00 9.8000e+01]\n",
      " [2.0134e+04 8.0000e+00 1.0000e+00 1.1000e+02]\n",
      " [2.0135e+04 9.8000e+01 0.0000e+00        nan]\n",
      " [2.0136e+04 1.2000e+01 0.0000e+00 1.2000e+01]]\n"
     ]
    }
   ],
   "source": [
    "data[4, 0] = 20135 \n",
    "print(data)"
   ]
  },
  {
   "cell_type": "markdown",
   "id": "24732ee1",
   "metadata": {},
   "source": [
    "我们来看看第二列 Age 年龄。一眼可以发现，存在两个问题，有一个同学没有年龄。我们看看能不能用平均年龄补全这个缺失的信息。"
   ]
  },
  {
   "cell_type": "code",
   "execution_count": 8,
   "id": "d9c47c65",
   "metadata": {},
   "outputs": [
    {
     "name": "stdout",
     "output_type": "stream",
     "text": [
      "is_nan: [False False  True False False False]\n",
      "有数据的平均年龄： 27.8\n"
     ]
    }
   ],
   "source": [
    "is_nan = np.isnan(data[:,1])\n",
    "print(\"is_nan:\", is_nan)\n",
    "nan_idx = np.argwhere(is_nan)\n",
    "\n",
    "# 计算有数据的平均年龄，用 ~ 符号可以 True/False 对调\n",
    "mean_age = data[~np.isnan(data[:,1]), 1].mean()\n",
    "print(\"有数据的平均年龄：\", mean_age)"
   ]
  },
  {
   "cell_type": "markdown",
   "id": "05e2fab3",
   "metadata": {},
   "source": [
    "为啥平均年龄有 27.8 岁，不正常啊！是的，在你处理自己的数据的时候，也会遇到不太正常的情况。   \n",
    "我们居然有一个 98 岁的学生。 这不太正常啊，所以我觉得我也得把这个 98 岁的当异常数据看待。   \n",
    "就用除开 98 和 nan 的数据， 计算其它数的平均值代替他们吧。"
   ]
  },
  {
   "cell_type": "code",
   "execution_count": 9,
   "id": "042cfc9f",
   "metadata": {},
   "outputs": [
    {
     "name": "stdout",
     "output_type": "stream",
     "text": [
      "normal_age_mask: [ True  True False  True False  True]\n",
      "normal_age_mean: 10.25\n",
      "ages: [10.   11.   10.25  8.   10.25 12.  ]\n"
     ]
    }
   ],
   "source": [
    "normal_age_mask = ~np.isnan(data[:,1]) & (data[:,1] < 20)\n",
    "print(\"normal_age_mask:\", normal_age_mask)\n",
    "\n",
    "normal_age_mean = data[normal_age_mask, 1].mean()\n",
    "print(\"normal_age_mean:\", normal_age_mean)\n",
    "\n",
    "data[~normal_age_mask, 1] = normal_age_mean\n",
    "print(\"ages:\", data[:, 1])"
   ]
  },
  {
   "cell_type": "markdown",
   "id": "3eade459",
   "metadata": {},
   "source": [
    "到这一步之后，我们要看看上课和成绩的数据需不需要清洗。按理来说，如果没有上课（0），课程的成绩应该是不存在的（nan）；上课了（1）才会有成绩。 所以我们观察下面两组数据："
   ]
  },
  {
   "cell_type": "code",
   "execution_count": 10,
   "id": "384ddb15",
   "metadata": {},
   "outputs": [
    {
     "name": "stdout",
     "output_type": "stream",
     "text": [
      "[[  1. 110.]\n",
      " [  0.  nan]\n",
      " [  0.  12.]]\n"
     ]
    }
   ],
   "source": [
    "print(data[-3:, 2:])"
   ]
  },
  {
   "cell_type": "markdown",
   "id": "a659221b",
   "metadata": {},
   "source": [
    "倒数第二行的数据还算是 ok 的，因为没上课，就没成绩，但是倒数第一行，没上课，怎么还有成绩？还有倒数第三行，成绩居然超出了满分 100 分。这些情况都是我们要处理的情况。"
   ]
  },
  {
   "cell_type": "code",
   "execution_count": 11,
   "id": "7129e5d7",
   "metadata": {},
   "outputs": [
    {
     "name": "stdout",
     "output_type": "stream",
     "text": [
      "[[  1.  67.]\n",
      " [  1.  88.]\n",
      " [  1.  98.]\n",
      " [  1. 100.]\n",
      " [  0.  nan]\n",
      " [  0.  nan]]\n"
     ]
    }
   ],
   "source": [
    "data[data[:,2] == 0, 3] = np.nan\n",
    "\n",
    "# 超过 100 分和低于 0 分的都处理一下\n",
    "data[:, 3] = np.clip(data[:, 3], 0, 100)\n",
    "\n",
    "print(data[:, 2:])"
   ]
  },
  {
   "cell_type": "code",
   "execution_count": 12,
   "id": "f6b370fc",
   "metadata": {},
   "outputs": [
    {
     "data": {
      "text/plain": [
       "array([[2.0131e+04, 1.0000e+01, 1.0000e+00, 6.7000e+01],\n",
       "       [2.0132e+04, 1.1000e+01, 1.0000e+00, 8.8000e+01],\n",
       "       [2.0133e+04, 1.0250e+01, 1.0000e+00, 9.8000e+01],\n",
       "       [2.0134e+04, 8.0000e+00, 1.0000e+00, 1.0000e+02],\n",
       "       [2.0135e+04, 1.0250e+01, 0.0000e+00,        nan],\n",
       "       [2.0136e+04, 1.2000e+01, 0.0000e+00,        nan]])"
      ]
     },
     "execution_count": 12,
     "metadata": {},
     "output_type": "execute_result"
    }
   ],
   "source": [
    "data"
   ]
  },
  {
   "cell_type": "code",
   "execution_count": null,
   "id": "4ed33fd5",
   "metadata": {},
   "outputs": [],
   "source": []
  }
 ],
 "metadata": {
  "kernelspec": {
   "display_name": "pytorch",
   "language": "python",
   "name": "pytorch"
  },
  "language_info": {
   "codemirror_mode": {
    "name": "ipython",
    "version": 3
   },
   "file_extension": ".py",
   "mimetype": "text/x-python",
   "name": "python",
   "nbconvert_exporter": "python",
   "pygments_lexer": "ipython3",
   "version": "3.7.16"
  }
 },
 "nbformat": 4,
 "nbformat_minor": 5
}
